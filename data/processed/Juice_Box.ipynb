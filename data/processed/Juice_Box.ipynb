{
  "nbformat": 4,
  "nbformat_minor": 0,
  "metadata": {
    "colab": {
      "name": "Juice_Box.ipynb",
      "provenance": [],
      "collapsed_sections": []
    },
    "kernelspec": {
      "name": "python3",
      "display_name": "Python 3"
    }
  },
  "cells": [
    {
      "cell_type": "code",
      "metadata": {
        "colab": {
          "base_uri": "https://localhost:8080/"
        },
        "id": "NXpmUCy3_oRZ",
        "outputId": "178ee7d6-1149-4727-d3ea-99f9ebb8e121"
      },
      "source": [
        "#Get the dataset\n",
        "!wget https://zenodo.org/record/3587843/files/TACO.zip?download=1"
      ],
      "execution_count": 3,
      "outputs": [
        {
          "output_type": "stream",
          "text": [
            "--2021-02-26 16:43:00--  https://zenodo.org/record/3587843/files/TACO.zip?download=1\n",
            "Resolving zenodo.org (zenodo.org)... 137.138.76.77\n",
            "Connecting to zenodo.org (zenodo.org)|137.138.76.77|:443... connected.\n",
            "HTTP request sent, awaiting response... 200 OK\n",
            "Length: 2719810615 (2.5G) [application/octet-stream]\n",
            "Saving to: ‘TACO.zip?download=1.1’\n",
            "\n",
            "TACO.zip?download=1 100%[===================>]   2.53G  5.50MB/s    in 4m 17s  \n",
            "\n",
            "2021-02-26 16:47:19 (10.1 MB/s) - ‘TACO.zip?download=1.1’ saved [2719810615/2719810615]\n",
            "\n"
          ],
          "name": "stdout"
        }
      ]
    },
    {
      "cell_type": "code",
      "metadata": {
        "id": "75qg4uO170Cm"
      },
      "source": [
        "#Import packages\n",
        "import os\n",
        "import zipfile\n",
        "import numpy as np\n",
        "import json\n",
        "import pandas as pd\n",
        "from shutil import copy\n",
        "import tensorflow as tf\n",
        "import matplotlib.pyplot as plt\n",
        "import random\n",
        "import cv2\n",
        "import pathlib\n",
        "from tensorflow.keras.optimizers import RMSprop\n",
        "from tensorflow.keras.preprocessing.image import ImageDataGenerator"
      ],
      "execution_count": 15,
      "outputs": []
    },
    {
      "cell_type": "code",
      "metadata": {
        "id": "kzz5Y16-CgwP"
      },
      "source": [
        "#Unzip the files ; if load fails, might change from 1 to 1.1 or 1.2 for example\n",
        "local_zip = 'TACO.zip?download=1.1'\n",
        "zip_ref = zipfile.ZipFile(local_zip, 'r')\n",
        "zip_ref.extractall()\n",
        "zip_ref.close()"
      ],
      "execution_count": 10,
      "outputs": []
    },
    {
      "cell_type": "code",
      "metadata": {
        "colab": {
          "base_uri": "https://localhost:8080/"
        },
        "id": "LoDf10LhB2Jw",
        "outputId": "8b01c31d-80ff-43cc-ffd0-1e7479f8dbfe"
      },
      "source": [
        "#Look at the files in the directory \n",
        "print('Current directory:', pathlib.Path().absolute())\n",
        "print('In the directory:', os.listdir())\n",
        "print('Within TACO:' , os.listdir('TACO'))\n",
        "print('Within data:', os.listdir('TACO/data'),'\\n')\n",
        "print('File count per batch:')\n",
        "for i in range(1,16):\n",
        "    print('batch_'+str(i)+':',len(os.listdir('TACO/data/batch_'+str(i))))"
      ],
      "execution_count": 13,
      "outputs": [
        {
          "output_type": "stream",
          "text": [
            "Current directory: /content\n",
            "In the directory: ['.config', 'TACO.zip?download=1', 'TACO.zip?download=1.1', 'TACO', '__MACOSX', 'sample_data']\n",
            "Within TACO: ['download.py', 'LICENSE', 'requirements.txt', 'demo.ipynb', '.ipynb_checkpoints', '.git', '.DS_Store', 'data', 'detector', '.gitignore', 'README.md']\n",
            "Within data: ['batch_1', 'batch_7', 'batch_10', 'batch_6', 'batch_12', 'batch_5', 'annotations.json', 'batch_11', 'batch_13', 'batch_4', 'batch_3', 'batch_15', 'batch_9', 'batch_8', 'batch_2', '.DS_Store', 'batch_14'] \n",
            "\n",
            "File count per batch:\n",
            "batch_1: 102\n",
            "batch_2: 93\n",
            "batch_3: 98\n",
            "batch_4: 90\n",
            "batch_5: 113\n",
            "batch_6: 98\n",
            "batch_7: 128\n",
            "batch_8: 101\n",
            "batch_9: 101\n",
            "batch_10: 101\n",
            "batch_11: 102\n",
            "batch_12: 101\n",
            "batch_13: 101\n",
            "batch_14: 101\n",
            "batch_15: 86\n"
          ],
          "name": "stdout"
        }
      ]
    },
    {
      "cell_type": "code",
      "metadata": {
        "colab": {
          "base_uri": "https://localhost:8080/"
        },
        "id": "GOp3EkwvBuXr",
        "outputId": "3019aa4b-3fa4-4bb9-ecbb-3d486a1bb9d5"
      },
      "source": [
        "#Read annotations\n",
        "print('See values in dictionary:')\n",
        "with open('/content/TACO/data/batch_1/annotations.json') as f:\n",
        "  data = json.load(f)\n",
        "for key in data:\n",
        "  print(key)"
      ],
      "execution_count": 28,
      "outputs": [
        {
          "output_type": "stream",
          "text": [
            "See values in dictionary:\n",
            "info\n",
            "images\n",
            "annotations\n",
            "scene_annotations\n",
            "licenses\n",
            "categories\n",
            "scene_categories\n"
          ],
          "name": "stdout"
        }
      ]
    },
    {
      "cell_type": "code",
      "metadata": {
        "colab": {
          "base_uri": "https://localhost:8080/",
          "height": 76
        },
        "id": "jVMXKbLE-mLi",
        "outputId": "8119ac5a-4245-466e-beb0-c5a3cfc56e3d"
      },
      "source": [
        "#Image information\n",
        "df_images = pd.DataFrame(data['images'])\n",
        "df_images[df_images['file_name']=='000024.jpg']"
      ],
      "execution_count": 26,
      "outputs": [
        {
          "output_type": "execute_result",
          "data": {
            "text/html": [
              "<div>\n",
              "<style scoped>\n",
              "    .dataframe tbody tr th:only-of-type {\n",
              "        vertical-align: middle;\n",
              "    }\n",
              "\n",
              "    .dataframe tbody tr th {\n",
              "        vertical-align: top;\n",
              "    }\n",
              "\n",
              "    .dataframe thead th {\n",
              "        text-align: right;\n",
              "    }\n",
              "</style>\n",
              "<table border=\"1\" class=\"dataframe\">\n",
              "  <thead>\n",
              "    <tr style=\"text-align: right;\">\n",
              "      <th></th>\n",
              "      <th>id</th>\n",
              "      <th>width</th>\n",
              "      <th>height</th>\n",
              "      <th>file_name</th>\n",
              "      <th>license</th>\n",
              "      <th>flickr_url</th>\n",
              "      <th>coco_url</th>\n",
              "      <th>date_captured</th>\n",
              "      <th>flickr_640_url</th>\n",
              "    </tr>\n",
              "  </thead>\n",
              "  <tbody>\n",
              "    <tr>\n",
              "      <th>28</th>\n",
              "      <td>28</td>\n",
              "      <td>1537</td>\n",
              "      <td>2049</td>\n",
              "      <td>000024.jpg</td>\n",
              "      <td>None</td>\n",
              "      <td>https://farm66.staticflickr.com/65535/46939255...</td>\n",
              "      <td>None</td>\n",
              "      <td>None</td>\n",
              "      <td>https://farm66.staticflickr.com/65535/46939255...</td>\n",
              "    </tr>\n",
              "  </tbody>\n",
              "</table>\n",
              "</div>"
            ],
            "text/plain": [
              "    id  width  ...  date_captured                                     flickr_640_url\n",
              "28  28   1537  ...           None  https://farm66.staticflickr.com/65535/46939255...\n",
              "\n",
              "[1 rows x 9 columns]"
            ]
          },
          "metadata": {
            "tags": []
          },
          "execution_count": 26
        }
      ]
    },
    {
      "cell_type": "code",
      "metadata": {
        "colab": {
          "base_uri": "https://localhost:8080/",
          "height": 133
        },
        "id": "dADGJMRXRGV0",
        "outputId": "9b78f2cc-54ca-4d5f-9c6a-7d0ff7dc117e"
      },
      "source": [
        "#Category information\n",
        "df_annotations = pd.DataFrame(data['annotations'])\n",
        "df_annotations.head(3)"
      ],
      "execution_count": 6,
      "outputs": [
        {
          "output_type": "execute_result",
          "data": {
            "text/html": [
              "<div>\n",
              "<style scoped>\n",
              "    .dataframe tbody tr th:only-of-type {\n",
              "        vertical-align: middle;\n",
              "    }\n",
              "\n",
              "    .dataframe tbody tr th {\n",
              "        vertical-align: top;\n",
              "    }\n",
              "\n",
              "    .dataframe thead th {\n",
              "        text-align: right;\n",
              "    }\n",
              "</style>\n",
              "<table border=\"1\" class=\"dataframe\">\n",
              "  <thead>\n",
              "    <tr style=\"text-align: right;\">\n",
              "      <th></th>\n",
              "      <th>id</th>\n",
              "      <th>image_id</th>\n",
              "      <th>category_id</th>\n",
              "      <th>segmentation</th>\n",
              "      <th>area</th>\n",
              "      <th>bbox</th>\n",
              "      <th>iscrowd</th>\n",
              "    </tr>\n",
              "  </thead>\n",
              "  <tbody>\n",
              "    <tr>\n",
              "      <th>0</th>\n",
              "      <td>1</td>\n",
              "      <td>0</td>\n",
              "      <td>6</td>\n",
              "      <td>[[561.0, 1238.0, 568.0, 1201.0, 567.0, 1175.0,...</td>\n",
              "      <td>403954.0</td>\n",
              "      <td>[517.0, 127.0, 447.0, 1322.0]</td>\n",
              "      <td>0</td>\n",
              "    </tr>\n",
              "    <tr>\n",
              "      <th>1</th>\n",
              "      <td>2</td>\n",
              "      <td>1</td>\n",
              "      <td>18</td>\n",
              "      <td>[[928.0, 1876.0, 938.0, 1856.0, 968.0, 1826.0,...</td>\n",
              "      <td>1071259.5</td>\n",
              "      <td>[1.0, 457.0, 1429.0, 1519.0]</td>\n",
              "      <td>0</td>\n",
              "    </tr>\n",
              "    <tr>\n",
              "      <th>2</th>\n",
              "      <td>3</td>\n",
              "      <td>1</td>\n",
              "      <td>14</td>\n",
              "      <td>[[617.0, 383.0, 703.0, 437.0, 713.0, 456.0, 72...</td>\n",
              "      <td>99583.5</td>\n",
              "      <td>[531.0, 292.0, 1006.0, 672.0]</td>\n",
              "      <td>0</td>\n",
              "    </tr>\n",
              "  </tbody>\n",
              "</table>\n",
              "</div>"
            ],
            "text/plain": [
              "   id  image_id  category_id  ...       area                           bbox iscrowd\n",
              "0   1         0            6  ...   403954.0  [517.0, 127.0, 447.0, 1322.0]       0\n",
              "1   2         1           18  ...  1071259.5   [1.0, 457.0, 1429.0, 1519.0]       0\n",
              "2   3         1           14  ...    99583.5  [531.0, 292.0, 1006.0, 672.0]       0\n",
              "\n",
              "[3 rows x 7 columns]"
            ]
          },
          "metadata": {
            "tags": []
          },
          "execution_count": 6
        }
      ]
    },
    {
      "cell_type": "code",
      "metadata": {
        "colab": {
          "base_uri": "https://localhost:8080/",
          "height": 133
        },
        "id": "pwWaqgeCdQSr",
        "outputId": "61934bb2-502f-43f7-9aaf-132c33966fdb"
      },
      "source": [
        "#Category information\n",
        "df_categories = pd.DataFrame(data['categories'])\n",
        "df_categories.head(3)"
      ],
      "execution_count": 7,
      "outputs": [
        {
          "output_type": "execute_result",
          "data": {
            "text/html": [
              "<div>\n",
              "<style scoped>\n",
              "    .dataframe tbody tr th:only-of-type {\n",
              "        vertical-align: middle;\n",
              "    }\n",
              "\n",
              "    .dataframe tbody tr th {\n",
              "        vertical-align: top;\n",
              "    }\n",
              "\n",
              "    .dataframe thead th {\n",
              "        text-align: right;\n",
              "    }\n",
              "</style>\n",
              "<table border=\"1\" class=\"dataframe\">\n",
              "  <thead>\n",
              "    <tr style=\"text-align: right;\">\n",
              "      <th></th>\n",
              "      <th>supercategory</th>\n",
              "      <th>id</th>\n",
              "      <th>name</th>\n",
              "    </tr>\n",
              "  </thead>\n",
              "  <tbody>\n",
              "    <tr>\n",
              "      <th>0</th>\n",
              "      <td>Aluminium foil</td>\n",
              "      <td>0</td>\n",
              "      <td>Aluminium foil</td>\n",
              "    </tr>\n",
              "    <tr>\n",
              "      <th>1</th>\n",
              "      <td>Battery</td>\n",
              "      <td>1</td>\n",
              "      <td>Battery</td>\n",
              "    </tr>\n",
              "    <tr>\n",
              "      <th>2</th>\n",
              "      <td>Blister pack</td>\n",
              "      <td>2</td>\n",
              "      <td>Aluminium blister pack</td>\n",
              "    </tr>\n",
              "  </tbody>\n",
              "</table>\n",
              "</div>"
            ],
            "text/plain": [
              "    supercategory  id                    name\n",
              "0  Aluminium foil   0          Aluminium foil\n",
              "1         Battery   1                 Battery\n",
              "2    Blister pack   2  Aluminium blister pack"
            ]
          },
          "metadata": {
            "tags": []
          },
          "execution_count": 7
        }
      ]
    },
    {
      "cell_type": "code",
      "metadata": {
        "colab": {
          "base_uri": "https://localhost:8080/",
          "height": 455
        },
        "id": "BWa6CdbcRe1c",
        "outputId": "9a6d35dd-9386-43e3-fb51-afa368a07f3e"
      },
      "source": [
        "#Get all images and details in one list\n",
        "x = range(1,16)\n",
        "df_all = pd.DataFrame()\n",
        "for i in x:\n",
        "    directory = '/content/TACO/data/batch_'+str(i)+'/annotations.json'\n",
        "    with open(directory) as f:\n",
        "        data = json.load(f)\n",
        "    df_images = pd.DataFrame(data['images'])\n",
        "    df_images['batch'] = 'batch_'+str(i)\n",
        "    df_images['image_id'] = df_images['id']\n",
        "    #add a new column for joining with same name\n",
        "    df_annotations = pd.DataFrame(data['annotations'])\n",
        "    df_categories = pd.DataFrame(data['categories'])\n",
        "    df_categories['category_id'] = df_categories['id']\n",
        "    df_1 = df_images.join(df_annotations,on='image_id',rsuffix='_anno')\n",
        "    df_2 = df_1.join(df_categories,on='category_id',rsuffix='_cat')\n",
        "    df_3 = df_2.append(df_images)\n",
        "    df_all = df_all.append(df_3)\n",
        "\n",
        "df_all.head(5)"
      ],
      "execution_count": 38,
      "outputs": [
        {
          "output_type": "execute_result",
          "data": {
            "text/html": [
              "<div>\n",
              "<style scoped>\n",
              "    .dataframe tbody tr th:only-of-type {\n",
              "        vertical-align: middle;\n",
              "    }\n",
              "\n",
              "    .dataframe tbody tr th {\n",
              "        vertical-align: top;\n",
              "    }\n",
              "\n",
              "    .dataframe thead th {\n",
              "        text-align: right;\n",
              "    }\n",
              "</style>\n",
              "<table border=\"1\" class=\"dataframe\">\n",
              "  <thead>\n",
              "    <tr style=\"text-align: right;\">\n",
              "      <th></th>\n",
              "      <th>id</th>\n",
              "      <th>width</th>\n",
              "      <th>height</th>\n",
              "      <th>file_name</th>\n",
              "      <th>license</th>\n",
              "      <th>flickr_url</th>\n",
              "      <th>coco_url</th>\n",
              "      <th>date_captured</th>\n",
              "      <th>flickr_640_url</th>\n",
              "      <th>batch</th>\n",
              "      <th>image_id</th>\n",
              "      <th>id_anno</th>\n",
              "      <th>image_id_anno</th>\n",
              "      <th>category_id</th>\n",
              "      <th>segmentation</th>\n",
              "      <th>area</th>\n",
              "      <th>bbox</th>\n",
              "      <th>iscrowd</th>\n",
              "      <th>supercategory</th>\n",
              "      <th>id_cat</th>\n",
              "      <th>name</th>\n",
              "      <th>category_id_cat</th>\n",
              "    </tr>\n",
              "  </thead>\n",
              "  <tbody>\n",
              "    <tr>\n",
              "      <th>0</th>\n",
              "      <td>0</td>\n",
              "      <td>1537</td>\n",
              "      <td>2049</td>\n",
              "      <td>000006.jpg</td>\n",
              "      <td>None</td>\n",
              "      <td>https://farm66.staticflickr.com/65535/33978196...</td>\n",
              "      <td>None</td>\n",
              "      <td>None</td>\n",
              "      <td>https://farm66.staticflickr.com/65535/33978196...</td>\n",
              "      <td>batch_1</td>\n",
              "      <td>0</td>\n",
              "      <td>1.0</td>\n",
              "      <td>0.0</td>\n",
              "      <td>6.0</td>\n",
              "      <td>[[561.0, 1238.0, 568.0, 1201.0, 567.0, 1175.0,...</td>\n",
              "      <td>403954.0</td>\n",
              "      <td>[517.0, 127.0, 447.0, 1322.0]</td>\n",
              "      <td>0.0</td>\n",
              "      <td>Bottle</td>\n",
              "      <td>6.0</td>\n",
              "      <td>Glass bottle</td>\n",
              "      <td>6.0</td>\n",
              "    </tr>\n",
              "    <tr>\n",
              "      <th>1</th>\n",
              "      <td>1</td>\n",
              "      <td>1537</td>\n",
              "      <td>2049</td>\n",
              "      <td>000008.jpg</td>\n",
              "      <td>None</td>\n",
              "      <td>https://farm66.staticflickr.com/65535/47803331...</td>\n",
              "      <td>None</td>\n",
              "      <td>None</td>\n",
              "      <td>https://farm66.staticflickr.com/65535/47803331...</td>\n",
              "      <td>batch_1</td>\n",
              "      <td>1</td>\n",
              "      <td>2.0</td>\n",
              "      <td>1.0</td>\n",
              "      <td>18.0</td>\n",
              "      <td>[[928.0, 1876.0, 938.0, 1856.0, 968.0, 1826.0,...</td>\n",
              "      <td>1071259.5</td>\n",
              "      <td>[1.0, 457.0, 1429.0, 1519.0]</td>\n",
              "      <td>0.0</td>\n",
              "      <td>Carton</td>\n",
              "      <td>18.0</td>\n",
              "      <td>Meal carton</td>\n",
              "      <td>18.0</td>\n",
              "    </tr>\n",
              "    <tr>\n",
              "      <th>2</th>\n",
              "      <td>2</td>\n",
              "      <td>1537</td>\n",
              "      <td>2049</td>\n",
              "      <td>000010.jpg</td>\n",
              "      <td>None</td>\n",
              "      <td>https://farm66.staticflickr.com/65535/40888872...</td>\n",
              "      <td>None</td>\n",
              "      <td>None</td>\n",
              "      <td>https://farm66.staticflickr.com/65535/40888872...</td>\n",
              "      <td>batch_1</td>\n",
              "      <td>2</td>\n",
              "      <td>3.0</td>\n",
              "      <td>1.0</td>\n",
              "      <td>14.0</td>\n",
              "      <td>[[617.0, 383.0, 703.0, 437.0, 713.0, 456.0, 72...</td>\n",
              "      <td>99583.5</td>\n",
              "      <td>[531.0, 292.0, 1006.0, 672.0]</td>\n",
              "      <td>0.0</td>\n",
              "      <td>Carton</td>\n",
              "      <td>14.0</td>\n",
              "      <td>Other carton</td>\n",
              "      <td>14.0</td>\n",
              "    </tr>\n",
              "    <tr>\n",
              "      <th>3</th>\n",
              "      <td>3</td>\n",
              "      <td>2049</td>\n",
              "      <td>1537</td>\n",
              "      <td>000019.jpg</td>\n",
              "      <td>None</td>\n",
              "      <td>https://farm66.staticflickr.com/65535/47803331...</td>\n",
              "      <td>None</td>\n",
              "      <td>None</td>\n",
              "      <td>https://farm66.staticflickr.com/65535/47803331...</td>\n",
              "      <td>batch_1</td>\n",
              "      <td>3</td>\n",
              "      <td>4.0</td>\n",
              "      <td>2.0</td>\n",
              "      <td>5.0</td>\n",
              "      <td>[[670.0, 993.0, 679.0, 998.0, 684.0, 1001.0, 6...</td>\n",
              "      <td>73832.5</td>\n",
              "      <td>[632.0, 987.0, 500.0, 374.0]</td>\n",
              "      <td>0.0</td>\n",
              "      <td>Bottle</td>\n",
              "      <td>5.0</td>\n",
              "      <td>Clear plastic bottle</td>\n",
              "      <td>5.0</td>\n",
              "    </tr>\n",
              "    <tr>\n",
              "      <th>4</th>\n",
              "      <td>4</td>\n",
              "      <td>1537</td>\n",
              "      <td>2049</td>\n",
              "      <td>000026.jpg</td>\n",
              "      <td>None</td>\n",
              "      <td>https://farm66.staticflickr.com/65535/33978199...</td>\n",
              "      <td>None</td>\n",
              "      <td>None</td>\n",
              "      <td>https://farm66.staticflickr.com/65535/33978199...</td>\n",
              "      <td>batch_1</td>\n",
              "      <td>4</td>\n",
              "      <td>5.0</td>\n",
              "      <td>2.0</td>\n",
              "      <td>7.0</td>\n",
              "      <td>[[647.0, 1028.0, 650.0, 1022.0, 653.0, 1016.0,...</td>\n",
              "      <td>915.0</td>\n",
              "      <td>[632.0, 989.0, 44.0, 51.0]</td>\n",
              "      <td>0.0</td>\n",
              "      <td>Bottle cap</td>\n",
              "      <td>7.0</td>\n",
              "      <td>Plastic bottle cap</td>\n",
              "      <td>7.0</td>\n",
              "    </tr>\n",
              "  </tbody>\n",
              "</table>\n",
              "</div>"
            ],
            "text/plain": [
              "   id  width  height  ... id_cat                  name category_id_cat\n",
              "0   0   1537    2049  ...    6.0          Glass bottle             6.0\n",
              "1   1   1537    2049  ...   18.0           Meal carton            18.0\n",
              "2   2   1537    2049  ...   14.0          Other carton            14.0\n",
              "3   3   2049    1537  ...    5.0  Clear plastic bottle             5.0\n",
              "4   4   1537    2049  ...    7.0    Plastic bottle cap             7.0\n",
              "\n",
              "[5 rows x 22 columns]"
            ]
          },
          "metadata": {
            "tags": []
          },
          "execution_count": 38
        }
      ]
    },
    {
      "cell_type": "code",
      "metadata": {
        "colab": {
          "base_uri": "https://localhost:8080/"
        },
        "id": "C3vyEopaZ6aE",
        "outputId": "3f5aaec1-db0d-4d82-80bb-10dfe2dfd91f"
      },
      "source": [
        "#Get shape of information\n",
        "#notes that one image can have multiple rows if falls into multiple categories\n",
        "df_all.shape"
      ],
      "execution_count": 62,
      "outputs": [
        {
          "output_type": "execute_result",
          "data": {
            "text/plain": [
              "(3000, 22)"
            ]
          },
          "metadata": {
            "tags": []
          },
          "execution_count": 62
        }
      ]
    },
    {
      "cell_type": "code",
      "metadata": {
        "colab": {
          "base_uri": "https://localhost:8080/"
        },
        "id": "V0VVHHfBaS9n",
        "outputId": "17d20d60-3804-4898-a13a-5a18b7ec7c4a"
      },
      "source": [
        "#count ids to split\n",
        "df_imageurls = df_all['flickr_url'].drop_duplicates()\n",
        "df_imageurls = df_imageurls.iloc[np.random.permutation(len(df_imageurls))]\n",
        "df_imageurls_test = np.array(df_imageurls[0:600])\n",
        "df_imageurls_train = np.array(df_imageurls[600:])\n",
        "\n",
        "#df_all['supercategory'] = df_all['supercategory'].fillna('unknown')\n",
        "\n",
        "print('Testing images:',len(df_imageurls_test))\n",
        "df_all_test = df_all[df_all['flickr_url'].isin(df_imageurls_test)]\n",
        "print('Rows and columns:',df_all_test.shape)\n",
        "print('Validate unique images within file:',df_all_test['flickr_url'].nunique())\n",
        "\n",
        "print('\\nTraining images:',len(df_imageurls_train))\n",
        "df_all_train = df_all[df_all['flickr_url'].isin(df_imageurls_train)]\n",
        "print('Rows and columns:',df_all_train.shape)\n",
        "print('Validate unique images within file:',df_all_train['flickr_url'].nunique())"
      ],
      "execution_count": 60,
      "outputs": [
        {
          "output_type": "stream",
          "text": [
            "Testing images: 600\n",
            "Rows and columns: (1200, 22)\n",
            "Validate unique images within file: 600\n",
            "\n",
            "Training images: 900\n",
            "Rows and columns: (1800, 22)\n",
            "Validate unique images within file: 900\n"
          ],
          "name": "stdout"
        }
      ]
    },
    {
      "cell_type": "code",
      "metadata": {
        "colab": {
          "base_uri": "https://localhost:8080/"
        },
        "id": "jxpdw7HdJbF7",
        "outputId": "75bb16e1-a73e-404d-bd31-55f858cdfe7c"
      },
      "source": [
        "#make sure the count of categories matches per grouping! otheriwse reshuffle \n",
        "#in above cell\n",
        "#create folders\n",
        "df_all_train = df_all_train[df_all_train['supercategory']!='unknown']\n",
        "df_all_test = df_all_test[df_all_test['supercategory']!='unknown']\n",
        "\n",
        "print(df_all_train['supercategory'].nunique())\n",
        "print(df_all_train['supercategory'].unique())\n",
        "print(df_all_test['supercategory'].nunique())\n",
        "print(df_all_test['supercategory'].unique())\n",
        "\n",
        "#list of super categories cleaned\n",
        "#use smaller list since test and train have to match\n",
        "x = df_all_test['supercategory'].unique()\n",
        "lc= np.array(x)"
      ],
      "execution_count": 61,
      "outputs": [
        {
          "output_type": "stream",
          "text": [
            "24\n",
            "['Carton' 'Bottle' 'Bottle cap' 'Can' 'Pop tab' 'Cup'\n",
            " 'Plastic bag & wrapper' 'Styrofoam piece' 'Other plastic'\n",
            " 'Plastic container' 'Paper' 'Straw' 'Unlabeled litter' 'Food waste'\n",
            " 'Scrap metal' 'Lid' 'Glass jar' 'Aluminium foil' 'Rope & strings'\n",
            " 'Paper bag' 'Plastic utensils' 'Broken glass' 'Cigarette'\n",
            " 'Squeezable tube']\n",
            "24\n",
            "['Bottle' 'Carton' 'Bottle cap' 'Can' 'Pop tab' 'Plastic container'\n",
            " 'Paper' 'Plastic bag & wrapper' 'Cup' 'Lid' 'Straw' 'Unlabeled litter'\n",
            " 'Plastic utensils' 'Other plastic' 'Aluminium foil' 'Rope & strings'\n",
            " 'Styrofoam piece' 'Squeezable tube' 'Scrap metal' 'Broken glass'\n",
            " 'Cigarette' 'Shoe' 'Plastic glooves' 'Paper bag']\n"
          ],
          "name": "stdout"
        }
      ]
    },
    {
      "cell_type": "code",
      "metadata": {
        "colab": {
          "base_uri": "https://localhost:8080/"
        },
        "id": "D_VMFo-tMO84",
        "outputId": "237f26cd-00f3-499e-b112-0991dde770a0"
      },
      "source": [
        "#create directory structure\n",
        "path = '/content/trashpred/'\n",
        "if os.path.isdir(path) == False:\n",
        "  os.mkdir(path)\n",
        "  print('base folder created')\n",
        "else:\n",
        "  print('base folder exists')\n",
        "\n",
        "path_test = '/content/trashpred/test/'\n",
        "if os.path.isdir(path_test) == False:\n",
        "  os.mkdir(path_test)\n",
        "  print('test folder created')\n",
        "else:\n",
        "  print('test folder exists')\n",
        "\n",
        "path_train = '/content/trashpred/train/'\n",
        "if os.path.isdir(path_train) == False:\n",
        "  os.mkdir(path_train)\n",
        "  print('train folder created')\n",
        "else:\n",
        "  print('train folder exists')"
      ],
      "execution_count": 63,
      "outputs": [
        {
          "output_type": "stream",
          "text": [
            "base folder created\n",
            "test folder created\n",
            "train folder created\n"
          ],
          "name": "stdout"
        }
      ]
    },
    {
      "cell_type": "code",
      "metadata": {
        "id": "vW5Ency6MmF1"
      },
      "source": [
        "#make folder names\n",
        "for i in lc:\n",
        "  pathname_test = '/content/trashpred/test/'+i\n",
        "  pathname_train = '/content/trashpred/train/'+i\n",
        "  if os.path.isdir(pathname_train) == False:\n",
        "    os.mkdir(pathname_train) \n",
        "  else:\n",
        "    print(pathname_train+' exists.')\n",
        "  if os.path.isdir(pathname_test) == False:\n",
        "    os.mkdir(pathname_test)\n",
        "  else:\n",
        "    print(pathname_test+' exists.')"
      ],
      "execution_count": 64,
      "outputs": []
    },
    {
      "cell_type": "code",
      "metadata": {
        "id": "6y54qDb-RDqp"
      },
      "source": [
        "range_batches = range(1,16)\n",
        "def move_images(df,src,dest,splittype):\n",
        "  for i in range_batches:\n",
        "    b = 'batch_'+str(i)\n",
        "    b_loc = b+'/'\n",
        "    df_batch = df[df['batch']==b]\n",
        "    for cat in lc:\n",
        "      df_sel = df_batch[df_batch['supercategory']==cat]\n",
        "      cat_loc = cat+'/'\n",
        "      image_list = np.array(df_sel['file_name'].unique())\n",
        "      for image in image_list:\n",
        "        copy(os.path.join(src,b_loc,image), os.path.join(dest,splittype,cat_loc,image))\n",
        "        #print(image + 'in' + b + 'moved.')"
      ],
      "execution_count": 66,
      "outputs": []
    },
    {
      "cell_type": "code",
      "metadata": {
        "id": "RCjlC-aZUaMR"
      },
      "source": [
        "dest = '/content/trashpred/'\n",
        "src = '/content/TACO/data/'\n",
        "train = 'train/'\n",
        "test = 'test/'\n",
        "\n",
        "move_images(df_all_test,src,dest,test)\n",
        "move_images(df_all_train,src,dest,train)"
      ],
      "execution_count": 67,
      "outputs": []
    },
    {
      "cell_type": "code",
      "metadata": {
        "colab": {
          "base_uri": "https://localhost:8080/"
        },
        "id": "qGTA5zIjWr4w",
        "outputId": "8131ade2-00e2-4890-8441-11dc88dee037"
      },
      "source": [
        "#Look at the files in the directory of the new structure\n",
        "print('In the directory:', os.listdir('/content/trashpred'))\n",
        "print('Within train:' , os.listdir('/content/trashpred/train'))\n",
        "print('Within test: ' , os.listdir('/content/trashpred/test'))\n",
        "print('Within a category:', os.listdir('/content/trashpred/test/Bottle'))"
      ],
      "execution_count": 68,
      "outputs": [
        {
          "output_type": "stream",
          "text": [
            "In the directory: ['test', 'train']\n",
            "Within train: ['Aluminium foil', 'Squeezable tube', 'Paper bag', 'Plastic utensils', 'Carton', 'Other plastic', 'Lid', 'Bottle', 'Plastic container', 'Broken glass', 'Plastic bag & wrapper', 'Can', 'Cup', 'Paper', 'Rope & strings', 'Plastic glooves', 'Unlabeled litter', 'Bottle cap', 'Straw', 'Styrofoam piece', 'Cigarette', 'Scrap metal', 'Pop tab', 'Shoe']\n",
            "Within test:  ['Aluminium foil', 'Squeezable tube', 'Paper bag', 'Plastic utensils', 'Carton', 'Other plastic', 'Lid', 'Bottle', 'Plastic container', 'Broken glass', 'Plastic bag & wrapper', 'Can', 'Cup', 'Paper', 'Rope & strings', 'Plastic glooves', 'Unlabeled litter', 'Bottle cap', 'Straw', 'Styrofoam piece', 'Cigarette', 'Scrap metal', 'Pop tab', 'Shoe']\n",
            "Within a category: ['000038.jpg', 'IMG_5055.JPG', '000070.JPG', '000034.JPG', '000022.jpg', '000084.jpg', '000006.JPG', '000077.jpg', '000060.JPG', '000035.jpg', '000114.JPG', '000024.JPG', '000043.JPG', 'IMG_4998.JPG', '000018.jpg', '000055.JPG', '000042.JPG', '000039.JPG', '000047.jpg', '000064.jpg', '000013.jpg', '000032.jpg', '000071.JPG', 'IMG_5056.JPG', '000056.JPG', '000090.JPG', '000115.JPG', '000012.jpg', '000086.jpg', '000061.jpg', '000073.jpg', '000026.jpg', '000001.jpg', 'IMG_5003.JPG', '000079.JPG', '000000.jpg', '000076.jpg', '000088.JPG', '000104.JPG', '000065.JPG', '000065.jpg', '000048.jpg', '000047.JPG', '000058.jpg', '000057.JPG', '000081.jpg', '000092.JPG', '000117.JPG', '000006.jpg', '000029.JPG', '000031.jpg', '000030.jpg', '000082.jpg', '000040.JPG', '000023.JPG', '000000.JPG', '000055.jpg', '000060.jpg', '000131.JPG', '000108.JPG', '000097.JPG', '000028.jpg', '000080.jpg', '000067.JPG']\n"
          ],
          "name": "stdout"
        }
      ]
    },
    {
      "cell_type": "code",
      "metadata": {
        "colab": {
          "base_uri": "https://localhost:8080/",
          "height": 263
        },
        "id": "rilBbL1SYBlo",
        "outputId": "6d95da2e-aef4-40ed-e70d-d6864616ddbd"
      },
      "source": [
        "#check if works\n",
        "loc = '/content/trashpred/train/Bottle/'\n",
        "img = loc+random.choice(os.listdir(loc)) \n",
        "print(img)\n",
        "image = cv2.imread(img)\n",
        "plt.axis(\"off\")\n",
        "plt.imshow(cv2.cvtColor(image, cv2.COLOR_BGR2RGB))\n",
        "plt.show()"
      ],
      "execution_count": 73,
      "outputs": [
        {
          "output_type": "stream",
          "text": [
            "/content/trashpred/train/Bottle/000039.jpg\n"
          ],
          "name": "stdout"
        },
        {
          "output_type": "display_data",
          "data": {
            "image/png": "[encoded data removed]",
            "text/plain": [
              "<Figure size 432x288 with 1 Axes>"
            ]
          },
          "metadata": {
            "tags": [],
            "needs_background": "light"
          }
        }
      ]
    }
  ]
}