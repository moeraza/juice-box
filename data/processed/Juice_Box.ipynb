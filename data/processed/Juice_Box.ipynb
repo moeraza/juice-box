{
  "nbformat": 4,
  "nbformat_minor": 0,
  "metadata": {
    "colab": {
      "name": "Juice_Box.ipynb",
      "provenance": [],
      "collapsed_sections": []
    },
    "kernelspec": {
      "name": "python3",
      "display_name": "Python 3"
    }
  },
  "cells": [
    {
      "cell_type": "code",
      "metadata": {
        "colab": {
          "base_uri": "https://localhost:8080/"
        },
        "id": "NXpmUCy3_oRZ",
        "outputId": "1f8e4f92-b02d-462e-b583-8137b4179c7b"
      },
      "source": [
        "#Get the dataset\n",
        "!wget https://zenodo.org/record/3587843/files/TACO.zip?download=1"
      ],
      "execution_count": 7,
      "outputs": [
        {
          "output_type": "stream",
          "text": [
            "--2021-02-25 02:30:26--  https://zenodo.org/record/3587843/files/TACO.zip?download=1\n",
            "Resolving zenodo.org (zenodo.org)... 137.138.76.77\n",
            "Connecting to zenodo.org (zenodo.org)|137.138.76.77|:443... connected.\n",
            "HTTP request sent, awaiting response... 200 OK\n",
            "Length: 2719810615 (2.5G) [application/octet-stream]\n",
            "Saving to: ‘TACO.zip?download=1’\n",
            "\n",
            "TACO.zip?download=1 100%[===================>]   2.53G  16.6MB/s    in 4m 23s  \n",
            "\n",
            "2021-02-25 02:34:51 (9.88 MB/s) - ‘TACO.zip?download=1’ saved [2719810615/2719810615]\n",
            "\n"
          ],
          "name": "stdout"
        }
      ]
    },
    {
      "cell_type": "code",
      "metadata": {
        "id": "75qg4uO170Cm"
      },
      "source": [
        "#Import packages\n",
        "import os\n",
        "import zipfile\n",
        "import numpy as np\n",
        "import json\n",
        "import pandas as pd\n",
        "import tensorflow as tf\n",
        "import pathlib\n",
        "from tensorflow.keras.optimizers import RMSprop\n",
        "from tensorflow.keras.preprocessing.image import ImageDataGenerator"
      ],
      "execution_count": 150,
      "outputs": []
    },
    {
      "cell_type": "code",
      "metadata": {
        "id": "kzz5Y16-CgwP"
      },
      "source": [
        "#Unzip the files\n",
        "local_zip = 'TACO.zip?download=1'\n",
        "zip_ref = zipfile.ZipFile(local_zip, 'r')\n",
        "zip_ref.extractall()\n",
        "zip_ref.close()"
      ],
      "execution_count": 12,
      "outputs": []
    },
    {
      "cell_type": "code",
      "metadata": {
        "colab": {
          "base_uri": "https://localhost:8080/"
        },
        "id": "LoDf10LhB2Jw",
        "outputId": "6696916c-c724-409c-8ac9-b13982e9c153"
      },
      "source": [
        "#Look at the files in the directory \n",
        "print('Current directory:', pathlib.Path().absolute())\n",
        "print('In the directory:', os.listdir())\n",
        "print('Within TACO:' , os.listdir('TACO'))\n",
        "print('Within data:', os.listdir('TACO/data'),'\\n')\n",
        "print('File count per batch:')\n",
        "for i in range(1,15):\n",
        "    print('batch_'+str(i)+':',len(os.listdir('TACO/data/batch_'+str(i))))"
      ],
      "execution_count": 129,
      "outputs": [
        {
          "output_type": "stream",
          "text": [
            "Current directory: /content\n",
            "In the directory: ['.config', 'TACO.zip?download=1', 'TACO', '__MACOSX', 'sample_data']\n",
            "Within TACO: ['download.py', 'LICENSE', 'requirements.txt', 'demo.ipynb', '.ipynb_checkpoints', '.git', '.DS_Store', 'data', 'detector', '.gitignore', 'README.md']\n",
            "Within data: ['batch_1', 'batch_7', 'batch_10', 'batch_6', 'batch_12', 'batch_5', 'annotations.json', 'batch_11', 'batch_13', 'batch_4', 'batch_3', 'batch_15', 'batch_9', 'batch_8', 'batch_2', '.DS_Store', 'batch_14'] \n",
            "\n",
            "File count per batch:\n",
            "batch_1: 102\n",
            "batch_2: 93\n",
            "batch_3: 98\n",
            "batch_4: 90\n",
            "batch_5: 113\n",
            "batch_6: 98\n",
            "batch_7: 128\n",
            "batch_8: 101\n",
            "batch_9: 101\n",
            "batch_10: 101\n",
            "batch_11: 102\n",
            "batch_12: 101\n",
            "batch_13: 101\n",
            "batch_14: 101\n"
          ],
          "name": "stdout"
        }
      ]
    },
    {
      "cell_type": "code",
      "metadata": {
        "colab": {
          "base_uri": "https://localhost:8080/"
        },
        "id": "GOp3EkwvBuXr",
        "outputId": "14d4136a-a418-4768-fd79-a87eae479206"
      },
      "source": [
        "#Read annotations\n",
        "print('See values in dictionary:')\n",
        "with open('/content/TACO/data/batch_1/annotations.json') as f:\n",
        "  data = json.load(f)\n",
        "for key in data:\n",
        "  print(key)"
      ],
      "execution_count": 130,
      "outputs": [
        {
          "output_type": "stream",
          "text": [
            "See values in dictionary:\n",
            "info\n",
            "images\n",
            "annotations\n",
            "scene_annotations\n",
            "licenses\n",
            "categories\n",
            "scene_categories\n"
          ],
          "name": "stdout"
        }
      ]
    },
    {
      "cell_type": "code",
      "metadata": {
        "colab": {
          "base_uri": "https://localhost:8080/",
          "height": 133
        },
        "id": "jVMXKbLE-mLi",
        "outputId": "622a06f2-0b1b-4f21-b14a-8ecbe8314e2a"
      },
      "source": [
        "#Image information\n",
        "df_images = pd.DataFrame(data['images'])\n",
        "df_images.head(3)"
      ],
      "execution_count": 131,
      "outputs": [
        {
          "output_type": "execute_result",
          "data": {
            "text/html": [
              "<div>\n",
              "<style scoped>\n",
              "    .dataframe tbody tr th:only-of-type {\n",
              "        vertical-align: middle;\n",
              "    }\n",
              "\n",
              "    .dataframe tbody tr th {\n",
              "        vertical-align: top;\n",
              "    }\n",
              "\n",
              "    .dataframe thead th {\n",
              "        text-align: right;\n",
              "    }\n",
              "</style>\n",
              "<table border=\"1\" class=\"dataframe\">\n",
              "  <thead>\n",
              "    <tr style=\"text-align: right;\">\n",
              "      <th></th>\n",
              "      <th>id</th>\n",
              "      <th>width</th>\n",
              "      <th>height</th>\n",
              "      <th>file_name</th>\n",
              "      <th>license</th>\n",
              "      <th>flickr_url</th>\n",
              "      <th>coco_url</th>\n",
              "      <th>date_captured</th>\n",
              "      <th>flickr_640_url</th>\n",
              "    </tr>\n",
              "  </thead>\n",
              "  <tbody>\n",
              "    <tr>\n",
              "      <th>0</th>\n",
              "      <td>0</td>\n",
              "      <td>1537</td>\n",
              "      <td>2049</td>\n",
              "      <td>000006.jpg</td>\n",
              "      <td>None</td>\n",
              "      <td>https://farm66.staticflickr.com/65535/33978196...</td>\n",
              "      <td>None</td>\n",
              "      <td>None</td>\n",
              "      <td>https://farm66.staticflickr.com/65535/33978196...</td>\n",
              "    </tr>\n",
              "    <tr>\n",
              "      <th>1</th>\n",
              "      <td>1</td>\n",
              "      <td>1537</td>\n",
              "      <td>2049</td>\n",
              "      <td>000008.jpg</td>\n",
              "      <td>None</td>\n",
              "      <td>https://farm66.staticflickr.com/65535/47803331...</td>\n",
              "      <td>None</td>\n",
              "      <td>None</td>\n",
              "      <td>https://farm66.staticflickr.com/65535/47803331...</td>\n",
              "    </tr>\n",
              "    <tr>\n",
              "      <th>2</th>\n",
              "      <td>2</td>\n",
              "      <td>1537</td>\n",
              "      <td>2049</td>\n",
              "      <td>000010.jpg</td>\n",
              "      <td>None</td>\n",
              "      <td>https://farm66.staticflickr.com/65535/40888872...</td>\n",
              "      <td>None</td>\n",
              "      <td>None</td>\n",
              "      <td>https://farm66.staticflickr.com/65535/40888872...</td>\n",
              "    </tr>\n",
              "  </tbody>\n",
              "</table>\n",
              "</div>"
            ],
            "text/plain": [
              "   id  width  ...  date_captured                                     flickr_640_url\n",
              "0   0   1537  ...           None  https://farm66.staticflickr.com/65535/33978196...\n",
              "1   1   1537  ...           None  https://farm66.staticflickr.com/65535/47803331...\n",
              "2   2   1537  ...           None  https://farm66.staticflickr.com/65535/40888872...\n",
              "\n",
              "[3 rows x 9 columns]"
            ]
          },
          "metadata": {
            "tags": []
          },
          "execution_count": 131
        }
      ]
    },
    {
      "cell_type": "code",
      "metadata": {
        "colab": {
          "base_uri": "https://localhost:8080/",
          "height": 133
        },
        "id": "dADGJMRXRGV0",
        "outputId": "f0e932d5-d379-420b-c3cb-05baad299783"
      },
      "source": [
        "#Category information\n",
        "df_annotations = pd.DataFrame(data['annotations'])\n",
        "df_annotations.head(3)"
      ],
      "execution_count": 132,
      "outputs": [
        {
          "output_type": "execute_result",
          "data": {
            "text/html": [
              "<div>\n",
              "<style scoped>\n",
              "    .dataframe tbody tr th:only-of-type {\n",
              "        vertical-align: middle;\n",
              "    }\n",
              "\n",
              "    .dataframe tbody tr th {\n",
              "        vertical-align: top;\n",
              "    }\n",
              "\n",
              "    .dataframe thead th {\n",
              "        text-align: right;\n",
              "    }\n",
              "</style>\n",
              "<table border=\"1\" class=\"dataframe\">\n",
              "  <thead>\n",
              "    <tr style=\"text-align: right;\">\n",
              "      <th></th>\n",
              "      <th>id</th>\n",
              "      <th>image_id</th>\n",
              "      <th>category_id</th>\n",
              "      <th>segmentation</th>\n",
              "      <th>area</th>\n",
              "      <th>bbox</th>\n",
              "      <th>iscrowd</th>\n",
              "    </tr>\n",
              "  </thead>\n",
              "  <tbody>\n",
              "    <tr>\n",
              "      <th>0</th>\n",
              "      <td>1</td>\n",
              "      <td>0</td>\n",
              "      <td>6</td>\n",
              "      <td>[[561.0, 1238.0, 568.0, 1201.0, 567.0, 1175.0,...</td>\n",
              "      <td>403954.0</td>\n",
              "      <td>[517.0, 127.0, 447.0, 1322.0]</td>\n",
              "      <td>0</td>\n",
              "    </tr>\n",
              "    <tr>\n",
              "      <th>1</th>\n",
              "      <td>2</td>\n",
              "      <td>1</td>\n",
              "      <td>18</td>\n",
              "      <td>[[928.0, 1876.0, 938.0, 1856.0, 968.0, 1826.0,...</td>\n",
              "      <td>1071259.5</td>\n",
              "      <td>[1.0, 457.0, 1429.0, 1519.0]</td>\n",
              "      <td>0</td>\n",
              "    </tr>\n",
              "    <tr>\n",
              "      <th>2</th>\n",
              "      <td>3</td>\n",
              "      <td>1</td>\n",
              "      <td>14</td>\n",
              "      <td>[[617.0, 383.0, 703.0, 437.0, 713.0, 456.0, 72...</td>\n",
              "      <td>99583.5</td>\n",
              "      <td>[531.0, 292.0, 1006.0, 672.0]</td>\n",
              "      <td>0</td>\n",
              "    </tr>\n",
              "  </tbody>\n",
              "</table>\n",
              "</div>"
            ],
            "text/plain": [
              "   id  image_id  category_id  ...       area                           bbox iscrowd\n",
              "0   1         0            6  ...   403954.0  [517.0, 127.0, 447.0, 1322.0]       0\n",
              "1   2         1           18  ...  1071259.5   [1.0, 457.0, 1429.0, 1519.0]       0\n",
              "2   3         1           14  ...    99583.5  [531.0, 292.0, 1006.0, 672.0]       0\n",
              "\n",
              "[3 rows x 7 columns]"
            ]
          },
          "metadata": {
            "tags": []
          },
          "execution_count": 132
        }
      ]
    },
    {
      "cell_type": "code",
      "metadata": {
        "colab": {
          "base_uri": "https://localhost:8080/",
          "height": 300
        },
        "id": "BWa6CdbcRe1c",
        "outputId": "918b711f-9454-4289-fd32-191cd2bf4542"
      },
      "source": [
        "#Get all images and details in one list\n",
        "x = range(1,15)\n",
        "df_all = pd.DataFrame()\n",
        "for i in x:\n",
        "    directory = '/content/TACO/data/batch_'+str(i)+'/annotations.json'\n",
        "    with open(directory) as f:\n",
        "        data = json.load(f)\n",
        "    df_images = pd.DataFrame(data['images'])\n",
        "    df_images['batch'] = 'batch_'+str(i)\n",
        "    df_images['image_id'] = df_images['id']\n",
        "    #add a new column for joining with same name\n",
        "    df_anotations = pd.DataFrame(data['annotations'])\n",
        "    df_categories = pd.DataFrame(data['categories'])\n",
        "    df_1 = df_images.join(df_annotations,on='image_id',rsuffix='_anno')\n",
        "    df_2 = df_1.join(df_categories,on='category_id',rsuffix='_cat')\n",
        "    df_3 = df_2.append(df_images)\n",
        "    df_all = df_all.append(df_3)\n",
        "\n",
        "df_all.head(3)"
      ],
      "execution_count": 135,
      "outputs": [
        {
          "output_type": "execute_result",
          "data": {
            "text/html": [
              "<div>\n",
              "<style scoped>\n",
              "    .dataframe tbody tr th:only-of-type {\n",
              "        vertical-align: middle;\n",
              "    }\n",
              "\n",
              "    .dataframe tbody tr th {\n",
              "        vertical-align: top;\n",
              "    }\n",
              "\n",
              "    .dataframe thead th {\n",
              "        text-align: right;\n",
              "    }\n",
              "</style>\n",
              "<table border=\"1\" class=\"dataframe\">\n",
              "  <thead>\n",
              "    <tr style=\"text-align: right;\">\n",
              "      <th></th>\n",
              "      <th>id</th>\n",
              "      <th>width</th>\n",
              "      <th>height</th>\n",
              "      <th>file_name</th>\n",
              "      <th>license</th>\n",
              "      <th>flickr_url</th>\n",
              "      <th>coco_url</th>\n",
              "      <th>date_captured</th>\n",
              "      <th>flickr_640_url</th>\n",
              "      <th>batch</th>\n",
              "      <th>image_id</th>\n",
              "      <th>id_anno</th>\n",
              "      <th>image_id_anno</th>\n",
              "      <th>category_id</th>\n",
              "      <th>segmentation</th>\n",
              "      <th>area</th>\n",
              "      <th>bbox</th>\n",
              "      <th>iscrowd</th>\n",
              "      <th>supercategory</th>\n",
              "      <th>id_cat</th>\n",
              "      <th>name</th>\n",
              "    </tr>\n",
              "  </thead>\n",
              "  <tbody>\n",
              "    <tr>\n",
              "      <th>0</th>\n",
              "      <td>0</td>\n",
              "      <td>1537</td>\n",
              "      <td>2049</td>\n",
              "      <td>000006.jpg</td>\n",
              "      <td>None</td>\n",
              "      <td>https://farm66.staticflickr.com/65535/33978196...</td>\n",
              "      <td>None</td>\n",
              "      <td>None</td>\n",
              "      <td>https://farm66.staticflickr.com/65535/33978196...</td>\n",
              "      <td>batch_1</td>\n",
              "      <td>0</td>\n",
              "      <td>1.0</td>\n",
              "      <td>0.0</td>\n",
              "      <td>6.0</td>\n",
              "      <td>[[561.0, 1238.0, 568.0, 1201.0, 567.0, 1175.0,...</td>\n",
              "      <td>403954.0</td>\n",
              "      <td>[517.0, 127.0, 447.0, 1322.0]</td>\n",
              "      <td>0.0</td>\n",
              "      <td>Bottle</td>\n",
              "      <td>6.0</td>\n",
              "      <td>Glass bottle</td>\n",
              "    </tr>\n",
              "    <tr>\n",
              "      <th>1</th>\n",
              "      <td>1</td>\n",
              "      <td>1537</td>\n",
              "      <td>2049</td>\n",
              "      <td>000008.jpg</td>\n",
              "      <td>None</td>\n",
              "      <td>https://farm66.staticflickr.com/65535/47803331...</td>\n",
              "      <td>None</td>\n",
              "      <td>None</td>\n",
              "      <td>https://farm66.staticflickr.com/65535/47803331...</td>\n",
              "      <td>batch_1</td>\n",
              "      <td>1</td>\n",
              "      <td>2.0</td>\n",
              "      <td>1.0</td>\n",
              "      <td>18.0</td>\n",
              "      <td>[[928.0, 1876.0, 938.0, 1856.0, 968.0, 1826.0,...</td>\n",
              "      <td>1071259.5</td>\n",
              "      <td>[1.0, 457.0, 1429.0, 1519.0]</td>\n",
              "      <td>0.0</td>\n",
              "      <td>Carton</td>\n",
              "      <td>18.0</td>\n",
              "      <td>Meal carton</td>\n",
              "    </tr>\n",
              "    <tr>\n",
              "      <th>2</th>\n",
              "      <td>2</td>\n",
              "      <td>1537</td>\n",
              "      <td>2049</td>\n",
              "      <td>000010.jpg</td>\n",
              "      <td>None</td>\n",
              "      <td>https://farm66.staticflickr.com/65535/40888872...</td>\n",
              "      <td>None</td>\n",
              "      <td>None</td>\n",
              "      <td>https://farm66.staticflickr.com/65535/40888872...</td>\n",
              "      <td>batch_1</td>\n",
              "      <td>2</td>\n",
              "      <td>3.0</td>\n",
              "      <td>1.0</td>\n",
              "      <td>14.0</td>\n",
              "      <td>[[617.0, 383.0, 703.0, 437.0, 713.0, 456.0, 72...</td>\n",
              "      <td>99583.5</td>\n",
              "      <td>[531.0, 292.0, 1006.0, 672.0]</td>\n",
              "      <td>0.0</td>\n",
              "      <td>Carton</td>\n",
              "      <td>14.0</td>\n",
              "      <td>Other carton</td>\n",
              "    </tr>\n",
              "  </tbody>\n",
              "</table>\n",
              "</div>"
            ],
            "text/plain": [
              "   id  width  height   file_name  ... iscrowd supercategory id_cat          name\n",
              "0   0   1537    2049  000006.jpg  ...     0.0        Bottle    6.0  Glass bottle\n",
              "1   1   1537    2049  000008.jpg  ...     0.0        Carton   18.0   Meal carton\n",
              "2   2   1537    2049  000010.jpg  ...     0.0        Carton   14.0  Other carton\n",
              "\n",
              "[3 rows x 21 columns]"
            ]
          },
          "metadata": {
            "tags": []
          },
          "execution_count": 135
        }
      ]
    },
    {
      "cell_type": "code",
      "metadata": {
        "colab": {
          "base_uri": "https://localhost:8080/"
        },
        "id": "C3vyEopaZ6aE",
        "outputId": "f51e7fde-05f1-4ff5-fe9b-2261a732163f"
      },
      "source": [
        "#Get shape of information\n",
        "df_all.shape"
      ],
      "execution_count": 138,
      "outputs": [
        {
          "output_type": "execute_result",
          "data": {
            "text/plain": [
              "(2830, 21)"
            ]
          },
          "metadata": {
            "tags": []
          },
          "execution_count": 138
        }
      ]
    },
    {
      "cell_type": "code",
      "metadata": {
        "colab": {
          "base_uri": "https://localhost:8080/"
        },
        "id": "V0VVHHfBaS9n",
        "outputId": "a8b02bdb-af4f-4d2c-e1f8-161f6d9a47eb"
      },
      "source": [
        "#count ids to split\n",
        "df_imageurls = df_all['flickr_url'].drop_duplicates()\n",
        "df_imageurls_test = np.array(df_imageurls[0:550])\n",
        "df_imageurls_train = np.array(df_imageurls[550:])\n",
        "print('Testing imnages:',len(df_imageurls_test))\n",
        "df_all_test = df_all[df_all['flickr_url'].isin(df_imageurls_test)]\n",
        "print('Rows and columns:',df_all_test.shape)\n",
        "print('Validate unique images within file:',df_all_test['flickr_url'].nunique())\n",
        "\n",
        "print('\\nTraining imnages:',len(df_imageurls_train))\n",
        "df_all_train = df_all[df_all['flickr_url'].isin(df_imageurls_train)]\n",
        "print('Rows and columns:',df_all_train.shape)\n",
        "print('Validate unique images within file:',df_all_train['flickr_url'].nunique())"
      ],
      "execution_count": 156,
      "outputs": [
        {
          "output_type": "stream",
          "text": [
            "Testing imnages: 550\n",
            "Rows and columns: (1100, 21)\n",
            "Validate unique images within file: 550\n",
            "\n",
            "Training imnages: 865\n",
            "Rows and columns: (1730, 21)\n",
            "Validate unique images within file: 865\n"
          ],
          "name": "stdout"
        }
      ]
    },
    {
      "cell_type": "code",
      "metadata": {
        "id": "2pNSvpQ_dubW"
      },
      "source": [
        "#Next step is to move images into folders and begin the CNN!"
      ],
      "execution_count": null,
      "outputs": []
    }
  ]
}