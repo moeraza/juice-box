{
  "nbformat": 4,
  "nbformat_minor": 0,
  "metadata": {
    "colab": {
      "name": "juice_box_demo.ipynb",
      "provenance": [],
      "collapsed_sections": [],
      "authorship_tag": "ABX9TyP4amk5DKLSRE9LHL7qaK9B",
      "include_colab_link": true
    },
    "kernelspec": {
      "name": "python3",
      "display_name": "Python 3"
    },
    "language_info": {
      "name": "python"
    }
  },
  "cells": [
    {
      "cell_type": "markdown",
      "metadata": {
        "id": "view-in-github",
        "colab_type": "text"
      },
      "source": [
        "<a href=\"https://colab.research.google.com/github/moeraza/juice-box/blob/main/juice_box_demo.ipynb\" target=\"_parent\"><img src=\"https://colab.research.google.com/assets/colab-badge.svg\" alt=\"Open In Colab\"/></a>"
      ]
    },
    {
      "cell_type": "code",
      "metadata": {
        "colab": {
          "base_uri": "https://localhost:8080/"
        },
        "id": "nOvuJHkWAhnz",
        "outputId": "441efd4d-5e3b-4360-fa53-45e0ba3fcb10"
      },
      "source": [
        "!rm -R juice-box; git clone https://github.com/moeraza/juice-box"
      ],
      "execution_count": 1,
      "outputs": [
        {
          "output_type": "stream",
          "text": [
            "rm: cannot remove 'juice-box': No such file or directory\n",
            "Cloning into 'juice-box'...\n",
            "remote: Enumerating objects: 196, done.\u001b[K\n",
            "remote: Counting objects: 100% (196/196), done.\u001b[K\n",
            "remote: Compressing objects: 100% (147/147), done.\u001b[K\n",
            "remote: Total 196 (delta 65), reused 106 (delta 19), pack-reused 0\u001b[K\n",
            "Receiving objects: 100% (196/196), 21.10 MiB | 10.98 MiB/s, done.\n",
            "Resolving deltas: 100% (65/65), done.\n"
          ],
          "name": "stdout"
        }
      ]
    },
    {
      "cell_type": "code",
      "metadata": {
        "id": "dyRqFjaMEGS6"
      },
      "source": [
        "!pip3 install -r /content/juice-box/requirements.txt &> /dev/null"
      ],
      "execution_count": 2,
      "outputs": []
    },
    {
      "cell_type": "code",
      "metadata": {
        "id": "SD0edNBEEnUj"
      },
      "source": [
        "# import custom code\n",
        "import sys, os\n",
        "sys.path.insert(0, \"/content/juice-box/src/modeling/\")\n",
        "\n",
        "from vanilla_cnn import *"
      ],
      "execution_count": 3,
      "outputs": []
    },
    {
      "cell_type": "code",
      "metadata": {
        "id": "Hqqqx9yTFAb1"
      },
      "source": [
        "model = load_model()\n",
        "\n",
        "predict_class(model, '/content/juice-box/data/test/battery/battery102.jpg', True)"
      ],
      "execution_count": 8,
      "outputs": []
    },
    {
      "cell_type": "code",
      "metadata": {
        "id": "0C4E-8VEF24P"
      },
      "source": [
        "predict_class(model, '/content/juice-box/data/test/drink_can/drink_can101.jpg', True)"
      ],
      "execution_count": null,
      "outputs": []
    },
    {
      "cell_type": "code",
      "metadata": {
        "id": "Myu6w7YAF7dJ"
      },
      "source": [
        "predict_class(model, '/content/juice-box/data/test/glass_bottle/glass_bottle104.jpg', True) "
      ],
      "execution_count": null,
      "outputs": []
    },
    {
      "cell_type": "code",
      "metadata": {
        "id": "k1y7A4jCIggq"
      },
      "source": [
        ""
      ],
      "execution_count": null,
      "outputs": []
    },
    {
      "cell_type": "code",
      "metadata": {
        "id": "Crtkd0SpIgkp"
      },
      "source": [
        ""
      ],
      "execution_count": null,
      "outputs": []
    }
  ]
}