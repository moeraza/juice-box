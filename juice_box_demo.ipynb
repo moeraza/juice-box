{
  "nbformat": 4,
  "nbformat_minor": 0,
  "metadata": {
    "colab": {
      "name": "juice_box_demo.ipynb",
      "provenance": [],
      "collapsed_sections": [],
      "authorship_tag": "ABX9TyPvzHi6q5GzJ7c+f9V+8qYB",
      "include_colab_link": true
    },
    "kernelspec": {
      "name": "python3",
      "display_name": "Python 3"
    },
    "language_info": {
      "name": "python"
    }
  },
  "cells": [
    {
      "cell_type": "markdown",
      "metadata": {
        "id": "view-in-github",
        "colab_type": "text"
      },
      "source": [
        "<a href=\"https://colab.research.google.com/github/moeraza/juice-box/blob/main/juice_box_demo.ipynb\" target=\"_parent\"><img src=\"https://colab.research.google.com/assets/colab-badge.svg\" alt=\"Open In Colab\"/></a>"
      ]
    },
    {
      "cell_type": "code",
      "metadata": {
        "colab": {
          "base_uri": "https://localhost:8080/"
        },
        "id": "nOvuJHkWAhnz",
        "outputId": "b38b7a3c-80bf-4454-fd6d-989c34d33cdf"
      },
      "source": [
        "!rm -R juice-box; git clone https://github.com/moeraza/juice-box"
      ],
      "execution_count": 1,
      "outputs": [
        {
          "output_type": "stream",
          "text": [
            "rm: cannot remove 'juice-box': No such file or directory\n",
            "Cloning into 'juice-box'...\n",
            "remote: Enumerating objects: 186, done.\u001b[K\n",
            "remote: Counting objects: 100% (186/186), done.\u001b[K\n",
            "remote: Compressing objects: 100% (139/139), done.\u001b[K\n",
            "remote: Total 186 (delta 62), reused 99 (delta 17), pack-reused 0\u001b[K\n",
            "Receiving objects: 100% (186/186), 21.10 MiB | 12.87 MiB/s, done.\n",
            "Resolving deltas: 100% (62/62), done.\n"
          ],
          "name": "stdout"
        }
      ]
    },
    {
      "cell_type": "code",
      "metadata": {
        "id": "dyRqFjaMEGS6"
      },
      "source": [
        "!pip3 install -r /content/juice-box/requirements.txt &> /dev/null"
      ],
      "execution_count": 6,
      "outputs": []
    },
    {
      "cell_type": "code",
      "metadata": {
        "id": "SD0edNBEEnUj"
      },
      "source": [
        "# import custom code\n",
        "import sys, os\n",
        "sys.path.insert(0, \"/content/juice-box/src/modeling/\")\n",
        "\n",
        "from vanilla_cnn import *\n"
      ],
      "execution_count": 7,
      "outputs": []
    },
    {
      "cell_type": "code",
      "metadata": {
        "id": "Hqqqx9yTFAb1"
      },
      "source": [
        ""
      ],
      "execution_count": null,
      "outputs": []
    }
  ]
}